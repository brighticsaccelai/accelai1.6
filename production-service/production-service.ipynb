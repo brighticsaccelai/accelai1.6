{
 "cells": [
  {
   "cell_type": "markdown",
   "metadata": {},
   "source": [
    "# Production Service\n",
    "\n",
    "This notebook will deploy a model (built else where) and deploy it to a REST end point\n",
    "which will perform model inference.\n",
    "\n",
    "Steps\n",
    "\n",
    "1. Build a model in another notebook and note the model name\n",
    "2. Deploy model to a Production EndPoint (a REST service)\n",
    "3. (optional) Write a program that communicates with Production EndPoint via REST protocol\n",
    "4. Shutdown Production EndPoint"
   ]
  },
  {
   "cell_type": "code",
   "execution_count": 24,
   "metadata": {},
   "outputs": [],
   "source": [
    "from sbrain.serving.model_service_endpoint import *\n",
    "from sbrain.learning.experiment import *\n",
    "import time\n",
    "import os\n",
    "import logging"
   ]
  },
  {
   "cell_type": "markdown",
   "metadata": {},
   "source": [
    "## Please change model name (model must exist) and end point name"
   ]
  },
  {
   "cell_type": "code",
   "execution_count": 25,
   "metadata": {},
   "outputs": [],
   "source": [
    "model_name = \"MNIST_Model_15398983879550533\"\n",
    "end_point_name=\"ep_2\""
   ]
  },
  {
   "cell_type": "code",
   "execution_count": 26,
   "metadata": {},
   "outputs": [
    {
     "name": "stdout",
     "output_type": "stream",
     "text": [
      "{\"loss\": 0.4558957517147064, \"global_step\": 201, \"accuracy\": 0.8539999723434448}\n"
     ]
    }
   ],
   "source": [
    "model = Model.lookup(model_name)\n",
    "print(str(model.model_metrics))"
   ]
  },
  {
   "cell_type": "markdown",
   "metadata": {},
   "source": [
    "## Bring up REST Inference Service Endpoint"
   ]
  },
  {
   "cell_type": "code",
   "execution_count": 27,
   "metadata": {},
   "outputs": [
    {
     "name": "stdout",
     "output_type": "stream",
     "text": [
      "\n",
      "\n",
      "Endpoint |  Model   | Author | Created  | Status  | Descript | Service | Service\n",
      "  Name   |   Name   |        |   Date   |         |   ion    |   URL   | Replica\n",
      "         |          |        |          |         |          |         |    s   \n",
      "=========+==========+========+==========+=========+==========+=========+========\n",
      "ep_2     | MNIST_Mo | admin  | 2018-10- | Started | ep_2     | http:// | 1      \n",
      "         | del_1539 |        | 19 UTC   |         |          | www.sds |        \n",
      "         | 89838795 |        |          |         |          | ra2.com |        \n",
      "         | 50533    |        |          |         |          | /ricky1 |        \n",
      "         |          |        |          |         |          | 0180208 |        \n",
      "         |          |        |          |         |          | -ep_2/  |        \n",
      "EndPoint is up - http://www.sdsra2.com/ricky10180208-ep_2/model/inference\n"
     ]
    }
   ],
   "source": [
    "mep = ModelEndpoint.create(model=model, endpoint_name=end_point_name,\n",
    "                            description=end_point_name, number_of_service_replicas=1, gpu_required=True)\n",
    "\n",
    "mep.search(endpoint_name=end_point_name)\n",
    "print()\n",
    "print(\"EndPoint is up - \" + mep.service_url + \"model/inference\")"
   ]
  },
  {
   "cell_type": "markdown",
   "metadata": {},
   "source": [
    "## An example program template to call this REST service from outside the cluster\n",
    "\n",
    "The below code can be used as an example for invoking a serving interface. Please mind the below things.\n",
    "\n",
    "1. This code is meant to serve as a client to test models built with Keras Mnist notebook at sample-notebooks/experiment-management/3_KerasTraining.ipynb.\n",
    "2. This code has to be run outside of the cluster. Running in this notebook will not work. Also this downloads mnist data from internet, so make sure you have an internet connection.\n",
    "3. Please make sure, that you change the paths marked under \"PATHS FOR YOU TO CHANGE\" before running.\n"
   ]
  },
  {
   "cell_type": "code",
   "execution_count": null,
   "metadata": {},
   "outputs": [],
   "source": [
    "# import requests, json\n",
    "# import base64\n",
    "# import cv2\n",
    "# import numpy as np\n",
    "# from tensorflow.examples.tutorials.mnist import input_data\n",
    "\n",
    "# ## - PATHS FOR YOU TO CHANGE\n",
    "# local_mnist_directory = \"/tmp\"\n",
    "# encoded_img_path = \"/tmp/encoded.jpg\"\n",
    "# url_to_service = \"http://sbrain.sdspass.io/sbraindec07-ep_2/model/inference\"\n",
    "\n",
    "\n",
    "\n",
    "# def encode_img(img_path):\n",
    "#     with open(img_path, \"rb\") as imageFile:\n",
    "#         str = base64.b64encode(imageFile.read())\n",
    "#         print(\"BASE64 Byte format ... \")\n",
    "#         print(str)\n",
    "#         print(\"BASE64 String format ... \")\n",
    "#         print(str.decode(\"utf-8\"))\n",
    "#         return str.decode(\"utf-8\")\n",
    "\n",
    "# def send_request_to_model_inference_service(message_data):\n",
    "\n",
    "#     headers = {\n",
    "#         'Content-Type': 'application/json',\n",
    "#     }\n",
    "#     features = []\n",
    "#     for image in message_data:\n",
    "#         features.append(image)\n",
    "\n",
    "#     payload = {\n",
    "#         'features': features\n",
    "\n",
    "#     }\n",
    "\n",
    "#     response = requests.post(url_to_service, headers=headers, data=json.dumps(payload))\n",
    "#     response.raise_for_status()\n",
    "#     return response.json()\n",
    "\n",
    "\n",
    "# def test():\n",
    "#     mnist = input_data.read_data_sets(local_mnist_directory, one_hot=True)\n",
    "#     img = mnist.train.images[0, :]\n",
    "#     cv2.imwrite(encoded_img_path, img.reshape((1, 784)), [cv2.IMWRITE_JPEG_QUALITY, 90])\n",
    "#     dt = encode_img(encoded_img_path)\n",
    "\n",
    "#     res = send_request_to_model_inference_service([dt])\n",
    "#     action_for_first_image = res[\"actions\"][0]\n",
    "#     prediction = action_for_first_image[\"dense_1\"] ## dense_1 is dependent on the model function that created this model.\n",
    "#     logits = np.array(prediction)\n",
    "#     class_response = np.argmax(logits)\n",
    "\n",
    "# test()"
   ]
  },
  {
   "cell_type": "markdown",
   "metadata": {},
   "source": [
    "## Bring down REST Inference Service Endpoint"
   ]
  },
  {
   "cell_type": "code",
   "execution_count": 28,
   "metadata": {},
   "outputs": [
    {
     "name": "stdout",
     "output_type": "stream",
     "text": [
      "\n",
      "\n",
      "Endpoint |  Model   | Author | Created  | Status  | Descript | Service | Service\n",
      "  Name   |   Name   |        |   Date   |         |   ion    |   URL   | Replica\n",
      "         |          |        |          |         |          |         |    s   \n",
      "=========+==========+========+==========+=========+==========+=========+========\n",
      "ep_2     | MNIST_Mo | admin  | 2018-10- | Stopped | ep_2     | http:// | 1      \n",
      "         | del_1539 |        | 19 UTC   |         |          | www.sds |        \n",
      "         | 89838795 |        |          |         |          | ra2.com |        \n",
      "         | 50533    |        |          |         |          | /ricky1 |        \n",
      "         |          |        |          |         |          | 0180208 |        \n",
      "         |          |        |          |         |          | -ep_2/  |        \n"
     ]
    }
   ],
   "source": [
    "mep2 = ModelEndpoint.lookup(endpoint_name=end_point_name)\n",
    "mep2.shutdown()\n",
    "mep2.search(endpoint_name=end_point_name)\n",
    "time.sleep(15) # allow kubernetes to bring down the container"
   ]
  },
  {
   "cell_type": "code",
   "execution_count": null,
   "metadata": {},
   "outputs": [],
   "source": [
    ""
   ]
  }
 ],
 "metadata": {
  "kernelspec": {
   "display_name": "Python 3",
   "language": "python",
   "name": "python3"
  },
  "language_info": {
   "codemirror_mode": {
    "name": "ipython",
    "version": 3.0
   },
   "file_extension": ".py",
   "mimetype": "text/x-python",
   "name": "python",
   "nbconvert_exporter": "python",
   "pygments_lexer": "ipython3",
   "version": "3.5.2"
  }
 },
 "nbformat": 4,
 "nbformat_minor": 0
}