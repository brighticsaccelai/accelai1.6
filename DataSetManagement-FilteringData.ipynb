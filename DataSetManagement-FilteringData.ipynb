{
 "cells": [
  {
   "cell_type": "markdown",
   "metadata": {},
   "source": [
    "### NOTE : This is a sample notebook. Please make a copy of it for yourself and try it out."
   ]
  },
  {
   "cell_type": "markdown",
   "metadata": {},
   "source": [
    "<a id='top'></a>\n",
    "This notebook is a follow up tutorial. Please make sure to go through the [DataSetManagement-Basic](./DataSetManagement-Basic.ipynb) before trying out this notebook. \n",
    "\n",
    "This tutorial shows how to filter out unwanted images and labels at dataset creation stage, or while  applying transformations and creating a new version, or when creating a split to train the models.To show how the filtering is working, we are going to use a smaller sample of [cifar_10 dataset](https://en.wikipedia.org/wiki/CIFAR-10), which has pictures of animals, airplanes, ships and so on.\n",
    "\n",
    "\n",
    "This tutorial covers the following:\n",
    "- [Filtering Out Data When Creating Dataset](#filter_at_create)\n",
    "- [Filtering Out Data While Applying Transformations](#filter_at_trans)\n",
    "- [Filtering Out Data When Creating Dataset Training/Test/Validation Splits](#filter_at_split)\n",
    "\n"
   ]
  },
  {
   "cell_type": "code",
   "execution_count": null,
   "metadata": {},
   "outputs": [],
   "source": [
    "from sbrain.dataset import DataSetImageClassification,DataSetVersion,DataSetSplit\n",
    "from sbrain.dataset import DataSetStatus,JobStatus,DataSetSplitStatus,DataSetVersionStatus\n",
    "from sbrain.dataset import Transformation,TransformationSet\n",
    "import numpy as np\n",
    "import cv2\n",
    "import uuid\n",
    "import time\n",
    "from IPython.display import clear_output"
   ]
  },
  {
   "cell_type": "markdown",
   "metadata": {},
   "source": [
    "#### Please set the username you used to log into sbrain ui in the following cell"
   ]
  },
  {
   "cell_type": "code",
   "execution_count": null,
   "metadata": {},
   "outputs": [],
   "source": [
    "user_name = \"admin\""
   ]
  },
  {
   "cell_type": "code",
   "execution_count": null,
   "metadata": {},
   "outputs": [],
   "source": [
    "import time\n",
    "def unique_id():\n",
    "    return str(int(time.time()))"
   ]
  },
  {
   "cell_type": "markdown",
   "metadata": {},
   "source": [
    "The sample dataset has images belonging to following classes."
   ]
  },
  {
   "cell_type": "code",
   "execution_count": null,
   "metadata": {},
   "outputs": [],
   "source": [
    "classes = {\n",
    "                'airplane': 0,\n",
    "                'automobile':1,\n",
    "                'bird': 2,\n",
    "                'cat': 3,\n",
    "                'deer': 4,\n",
    "                'dog': 5,\n",
    "                'frog': 6,\n",
    "                'horse': 7,\n",
    "                'ship': 8,\n",
    "                'truck': 9\n",
    "            }"
   ]
  },
  {
   "cell_type": "markdown",
   "metadata": {},
   "source": [
    "Following code lists out the files in the cifar10_small dataset we are going to use."
   ]
  },
  {
   "cell_type": "code",
   "execution_count": null,
   "metadata": {},
   "outputs": [],
   "source": [
    "import glob\n",
    "files = glob.glob(\"../demo-data/cifar10_small/*.*\")\n",
    "files = [f.split(\"/\")[-1:][0] for f in files]\n",
    "files = \"\\n\".join(files)\n",
    "print(files)"
   ]
  },
  {
   "cell_type": "markdown",
   "metadata": {},
   "source": [
    "<a id='filter_at_create'></a>\n",
    "## Filtering Out Data When Creating Dataset\n",
    "\n",
    "For filtering data out when creating dataset, the image_iterator and/or label_iterator functions can be written in a way to filter out unwanted data as shown below.\n",
    "\n",
    "Following example  we are using the image iterator to filter out airplane images, \n",
    "and label iterator to filter out images belonging to class 2, i.e. the bird images. \n",
    "\n",
    "\n",
    "NOTE: the example shows sample how to use image_iterator and label_iterator to filter in one call. \n",
    "You don't have to use both. You can use just image_iterator to filter out both airplane and bird images, or just use the label iterator to do the same.\n",
    "<div align=\"right\"><a href=\"#top\">BackToTheTop</a></div>"
   ]
  },
  {
   "cell_type": "code",
   "execution_count": null,
   "metadata": {},
   "outputs": [],
   "source": [
    "def iterator_images(data_root_path):\n",
    "    import glob\n",
    "    result = []\n",
    "    files = glob.glob(\"{}/*.*\".format(data_root_path))\n",
    "    for f in files:\n",
    "        # Filtering out images with \"_airplane\" in name\n",
    "        if not \"_airplane\" in f:\n",
    "            yield f\n",
    "\n",
    "def iterator_labels(data_root_path):\n",
    "    import glob\n",
    "    import time\n",
    "    files = glob.glob(\"{}/*.*\".format(data_root_path))\n",
    "    classes = {\n",
    "                'airplane': 0,\n",
    "                'automobile':1,\n",
    "                'bird': 2,\n",
    "                'cat': 3,\n",
    "                'deer': 4,\n",
    "                'dog': 5,\n",
    "                'frog': 6,\n",
    "                'horse': 7,\n",
    "                'ship': 8,\n",
    "                'truck': 9\n",
    "            }\n",
    "    for f in files:\n",
    "        img_name =  f.split('/')[-1:][0]\n",
    "        lbl_str = img_name[img_name.index('_')+1:img_name.index('.')]\n",
    "        lbl_id = classes[lbl_str]\n",
    "        # Filtering out images with label 2 i.e. class 'bird'\n",
    "        if lbl_id != 2:\n",
    "            yield (img_name, lbl_id)    \n",
    "    "
   ]
  },
  {
   "cell_type": "code",
   "execution_count": null,
   "metadata": {},
   "outputs": [],
   "source": [
    "dataset_name = \"cifar10-demo-{}\".format(unique_id())\n",
    "\n",
    "job = DataSetImageClassification(name=dataset_name).create(\n",
    "    description=\"cifar 10 dataset\",\n",
    "    source_archive_path=\"shared-dir/sample-notebooks/demo-data/cifar10_small\",\n",
    "    classes=classes,\n",
    "    collection_date=\"06-19-2018\",\n",
    "    image_iterator=iterator_images,\n",
    "    label_iterator=iterator_labels\n",
    ")\n",
    "\n",
    "while job.status != JobStatus.COMPLETE.value and job.status != JobStatus.FAILED.value:\n",
    "    clear_output(wait=True)\n",
    "    job = job.get_status()"
   ]
  },
  {
   "cell_type": "code",
   "execution_count": null,
   "metadata": {},
   "outputs": [],
   "source": [
    "DataSetImageClassification.search(name=dataset_name)\n",
    "ds = DataSetImageClassification.lookup(dataset_name)\n",
    "ds.search_versions(version_name=\"v1\")"
   ]
  },
  {
   "cell_type": "code",
   "execution_count": null,
   "metadata": {},
   "outputs": [],
   "source": [
    "ds_get = DataSetImageClassification.lookup(dataset_name)\n",
    "ds_version = ds_get.version(\"v1\")"
   ]
  },
  {
   "cell_type": "markdown",
   "metadata": {},
   "source": [
    "Now that the dataset is created, lets see if the newly created dataset has the airplane and bird images filtered out."
   ]
  },
  {
   "cell_type": "code",
   "execution_count": null,
   "metadata": {},
   "outputs": [],
   "source": [
    "version_iterator = ds_version.get_iterator()\n",
    "result = version_iterator.get_all()\n",
    "print(\"image_name, label\\n\")\n",
    "for k,v in result:\n",
    "    k = k.split(\"/\")[-1]\n",
    "    print(\"{}, {}\".format(k,v))"
   ]
  },
  {
   "cell_type": "markdown",
   "metadata": {},
   "source": [
    "<a id='filter_at_trans'></a>\n",
    "## Filtering Out Data While Applying Transformations\n",
    "<div align=\"right\"><a href=\"#top\">BackToTheTop</a></div>"
   ]
  },
  {
   "cell_type": "markdown",
   "metadata": {},
   "source": [
    "Following is a simple transformation which just flips an image. "
   ]
  },
  {
   "cell_type": "code",
   "execution_count": null,
   "metadata": {},
   "outputs": [],
   "source": [
    "class Flip(Transformation):\n",
    "    def __init__(self, name):\n",
    "        super().__init__(name)\n",
    "\n",
    "    def process(self, arr_in):\n",
    "        rotated_image = cv2.flip(arr_in, 1)\n",
    "        return rotated_image\n"
   ]
  },
  {
   "cell_type": "code",
   "execution_count": null,
   "metadata": {},
   "outputs": [],
   "source": [
    "flip = Flip(name=\"flip-{}\".format(unique_id())).create(author=\"jasmine\",description=\"flip images\")"
   ]
  },
  {
   "cell_type": "markdown",
   "metadata": {},
   "source": [
    "Filtering out data when running transformation job, can be done using either of the following 2 ways:\n",
    " \n",
    " 1. **data_exclude_function** : which filters out data based on the image file. The function gets absolute path to image as input and returns Boolean to say whether to exclude this image or not.\n",
    " \n",
    " 2. **label_exclude_function** : which filters out data based on the label of the image. The function has \"label\" as the input and should return a Boolean to say whether to exclude this image or not.\n",
    " \n",
    " \n",
    "In the following example, we will use the label_exclude_func to filter out images with label 5 , i.e. class 'dog', and use the image_exclude_func to filter out images with \"_cat\" in their name, i.e. class \"cat\".\n",
    " \n",
    "NOTE : Following example shows how to use both, you can use either one of them.\n",
    " "
   ]
  },
  {
   "cell_type": "code",
   "execution_count": null,
   "metadata": {},
   "outputs": [],
   "source": [
    "def label_exclude_func(label):\n",
    "    # Filter out label 5, i.e. dog\n",
    "    return int(label) == 5"
   ]
  },
  {
   "cell_type": "code",
   "execution_count": null,
   "metadata": {},
   "outputs": [],
   "source": [
    "def image_exclude_func(img_path):\n",
    "    # Filter out cat\n",
    "    return \"_cat\" in img_path"
   ]
  },
  {
   "cell_type": "code",
   "execution_count": null,
   "metadata": {},
   "outputs": [],
   "source": [
    "version_flipped_1_name = \"flipped-{}\".format(unique_id())\n",
    "tj = ds_version.transform(flip).run(target_version=version_flipped_1_name, \n",
    "                                    num_workers=2, \n",
    "                                    data_exclude_function=image_exclude_func, \n",
    "                                    label_exclude_function=label_exclude_func)\n",
    "\n",
    "#Check job status\n",
    "status = tj.get_status().lower()\n",
    "while status.lower() != 'complete':\n",
    "    clear_output(wait=True)\n",
    "    status = tj.get_status().lower()\n",
    "    time.sleep(2)"
   ]
  },
  {
   "cell_type": "code",
   "execution_count": null,
   "metadata": {},
   "outputs": [],
   "source": [
    "ds.search_versions(version_name=version_flipped_1_name)\n",
    "version_flipped_1 = ds_get.version( version_name =  version_flipped_1_name)"
   ]
  },
  {
   "cell_type": "markdown",
   "metadata": {},
   "source": [
    "Now lets look at the images in the \"flipped\" version we just created. \n",
    "\n",
    "It should not have any cat or dog images."
   ]
  },
  {
   "cell_type": "code",
   "execution_count": null,
   "metadata": {},
   "outputs": [],
   "source": [
    "version_flipped_1_iterator = version_flipped_1.get_iterator()\n",
    "result = version_flipped_1_iterator.get_all()\n",
    "print(\"image_name, label\\n\")\n",
    "for k,v in result:\n",
    "    k = k.split(\"/\")[-1]\n",
    "    print(\"{}, {}\".format(k,v))"
   ]
  },
  {
   "cell_type": "markdown",
   "metadata": {},
   "source": [
    "<a id='filter_at_split'></a>\n",
    "## Filtering Out Data When Creating Dataset Training/Test/Validation Splits\n",
    "<div align=\"right\"><a href=\"#top\">BackToTheTop</a></div>"
   ]
  },
  {
   "cell_type": "markdown",
   "metadata": {},
   "source": [
    "For filtering out data, when creating dataset splits, we can use the similar data_exclude_function and/or label_exclude_function, that we used above to filter when running transformation job.\n",
    "\n",
    "In the following example, we will use the label_exclude_func to filter out images with label 9 , i.e. class 'truck', and use the image_exclude_func to filter out images with \"_ship\" in their name, i.e. class \"ship\".\n",
    " \n",
    "NOTE : Following example shows how to use both, you can use either one of them.\n",
    " "
   ]
  },
  {
   "cell_type": "code",
   "execution_count": null,
   "metadata": {},
   "outputs": [],
   "source": [
    "def label_exclude_func_2(label):\n",
    "    # Filtering out truck images\n",
    "    return int(label) == 9\n",
    "\n",
    "def image_exclude_func_2(img_path):\n",
    "    # Filtering out ship images\n",
    "    return \"_ship\" in img_path"
   ]
  },
  {
   "cell_type": "code",
   "execution_count": null,
   "metadata": {},
   "outputs": [],
   "source": [
    "split_name = \"flipped-split-60-30-10--{}\".format(unique_id())\n",
    "split_job = version_flipped_1.create_data_split(split_name=split_name,\n",
    "                                                split_percentages=[60,30,10],\n",
    "                                                data_exclude_function=image_exclude_func_2,\n",
    "                                                label_exclude_function=label_exclude_func_2,\n",
    "                                                description=\"example split with filter functions\"\n",
    "                                            )\n",
    "\n",
    "\n",
    "#Check job status\n",
    "while split_job.status != JobStatus.COMPLETE.value and split_job.status != JobStatus.FAILED.value:\n",
    "    clear_output(wait=True)\n",
    "    split_job = split_job.get_status()\n",
    "    time.sleep(2)"
   ]
  },
  {
   "cell_type": "code",
   "execution_count": null,
   "metadata": {},
   "outputs": [],
   "source": [
    "version_flipped_1.search_splits(split_name=split_name)"
   ]
  },
  {
   "cell_type": "code",
   "execution_count": null,
   "metadata": {},
   "outputs": [],
   "source": [
    "cifar_10_split = DataSetSplit.lookup(dataset_name=dataset_name, \n",
    "                                     dataset_version_name=version_flipped_1_name, \n",
    "                                     split_name=split_name)"
   ]
  },
  {
   "cell_type": "markdown",
   "metadata": {},
   "source": [
    "The split creates 3 Tensorflow's TFRecordDataset files, one each for train,test and validation.\n",
    "Following code shows how to list out files in the tfrecord files.\n",
    "\"ship\" or \"truck\" images should not be present in any of the tfrecord files.\n"
   ]
  },
  {
   "cell_type": "code",
   "execution_count": null,
   "metadata": {},
   "outputs": [],
   "source": [
    "import tensorflow as tf\n",
    "import json\n",
    "sess = tf.Session()\n",
    "\n",
    "dataset = cifar_10_split.train_tfrecord(all_fields=True)\n",
    "iterator = dataset.make_one_shot_iterator()\n",
    "next_element = iterator.get_next()\n",
    "\n",
    "for i in range(50):\n",
    "    try:\n",
    "        data,lbl,name,h,w,d = sess.run(next_element)\n",
    "        name = name.decode('utf-8')\n",
    "        label = int(lbl.decode('utf-8'))\n",
    "        print(\"{} : {}\".format(name, label))\n",
    "    except Exception as ex:\n",
    "        break"
   ]
  },
  {
   "cell_type": "code",
   "execution_count": null,
   "metadata": {},
   "outputs": [],
   "source": [
    "import tensorflow as tf\n",
    "import json\n",
    "sess = tf.Session()\n",
    "\n",
    "dataset = cifar_10_split.test_tfrecord(all_fields=True)\n",
    "iterator = dataset.make_one_shot_iterator()\n",
    "next_element = iterator.get_next()\n",
    "\n",
    "for i in range(50):\n",
    "    try:\n",
    "        data,lbl,name,h,w,d = sess.run(next_element)\n",
    "        name = name.decode('utf-8')\n",
    "        label = int(lbl.decode('utf-8'))\n",
    "        print(\"{} : {}\".format(name, label))\n",
    "    except Exception as ex:\n",
    "        break"
   ]
  },
  {
   "cell_type": "code",
   "execution_count": null,
   "metadata": {},
   "outputs": [],
   "source": [
    "import tensorflow as tf\n",
    "import json\n",
    "sess = tf.Session()\n",
    "\n",
    "dataset = cifar_10_split.eval_tfrecord(all_fields=True)\n",
    "iterator = dataset.make_one_shot_iterator()\n",
    "next_element = iterator.get_next()\n",
    "\n",
    "for i in range(50):\n",
    "    try:\n",
    "        data,lbl,name,h,w,d = sess.run(next_element)\n",
    "        name = name.decode('utf-8')\n",
    "        label = int(lbl.decode('utf-8'))\n",
    "        print(\"{} : {}\".format(name, label))\n",
    "    except Exception as ex:\n",
    "        break"
   ]
  },
  {
   "cell_type": "markdown",
   "metadata": {},
   "source": [
    "## **_<font color=\"green\">Congratulations !!! You completed the tutorial successfully.</font>_**"
   ]
  },
  {
   "cell_type": "code",
   "execution_count": null,
   "metadata": {},
   "outputs": [],
   "source": []
  }
 ],
 "metadata": {
  "kernelspec": {
   "display_name": "Python 3",
   "language": "python",
   "name": "python3"
  },
  "language_info": {
   "codemirror_mode": {
    "name": "ipython",
    "version": 3
   },
   "file_extension": ".py",
   "mimetype": "text/x-python",
   "name": "python",
   "nbconvert_exporter": "python",
   "pygments_lexer": "ipython3",
   "version": "3.5.2"
  }
 },
 "nbformat": 4,
 "nbformat_minor": 2
}
