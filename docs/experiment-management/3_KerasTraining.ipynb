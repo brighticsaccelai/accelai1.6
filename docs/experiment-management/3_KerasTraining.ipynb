{
 "cells": [
  {
   "cell_type": "markdown",
   "metadata": {},
   "source": [
    "# <div class=\"alert alert-block alert-info\" style=\"border-width:4px\">SBrain Keras Training Tutorial </div>"
   ]
  },
  {
   "cell_type": "markdown",
   "metadata": {},
   "source": [
    "# Introduction\n",
    "\n",
    "This tutorial will walk you through how SBrain supports keras distributed training. This will showcase an example where keras models are training against Mnist data.\n",
    " "
   ]
  },
  {
   "cell_type": "markdown",
   "metadata": {},
   "source": [
    "### Lets try it out\n",
    "\n",
    "\n",
    "Before we begin, it would be good to copy this notebook and rename it with your name at the end, since we don't want multiple people editing the same notebook at the same time, causing reloading issues.\n",
    "\n",
    "#### Imports\n",
    "\n",
    "Below are the necessary imports."
   ]
  },
  {
   "cell_type": "code",
   "execution_count": null,
   "metadata": {},
   "outputs": [],
   "source": [
    "from sbrain.learning.experiment import *\n",
    "from sbrain.dataset.dataset import *"
   ]
  },
  {
   "cell_type": "markdown",
   "metadata": {},
   "source": [
    "#### Unique Names\n",
    "\n",
    "Just as in the other notebooks, we need to make all the names unique. "
   ]
  },
  {
   "cell_type": "code",
   "execution_count": null,
   "metadata": {},
   "outputs": [],
   "source": [
    "import time\n",
    "\n",
    "user_name = \"albin\"\n",
    "\n",
    "def uniquify(name):\n",
    "    import time\n",
    "    should_uniquify = True\n",
    "    if should_uniquify:\n",
    "        return name + user_name + str(time.time()).replace(\".\",\"\")\n",
    "    else:\n",
    "        return name"
   ]
  },
  {
   "cell_type": "markdown",
   "metadata": {},
   "source": [
    "#### Input Function\n",
    "\n",
    "For this example we use an input function where we download the Mnist data from the internet. "
   ]
  },
  {
   "cell_type": "code",
   "execution_count": null,
   "metadata": {},
   "outputs": [],
   "source": [
    "def input_function(mode, batch_size, params):\n",
    "    from tensorflow.examples.tutorials.mnist import input_data\n",
    "    import tensorflow as tf\n",
    "\n",
    "    local_dir = \"/workspace/shared-dir/sample-notebooks/demo-data/learning/mnist/\"\n",
    "\n",
    "    if mode == \"train\":\n",
    "        mnist = input_data.read_data_sets(local_dir, one_hot=True)\n",
    "\n",
    "        dataset = tf.data.Dataset.from_tensor_slices(({\"data\" : mnist.train.images}, mnist.train.labels))\n",
    "        dataset = dataset.shuffle(1000).batch(batch_size).repeat()\n",
    "        return dataset\n",
    "    else:\n",
    "        mnist = input_data.read_data_sets(local_dir, one_hot=True)\n",
    "\n",
    "        dataset = tf.data.Dataset.from_tensor_slices(({\"data\" : mnist.test.images}, mnist.test.labels))\n",
    "        dataset = dataset.batch(batch_size)\n",
    "        return dataset"
   ]
  },
  {
   "cell_type": "markdown",
   "metadata": {},
   "source": [
    "### The model function\n",
    "\n",
    "Here we define a keras model function, where we create a model layer by layer and compile it with all the loss, optimizer and metrics that are necessary. More details on how to create Keras models are given at <a href=\"https://keras.io\">Keras Model Api</a>. SBrain expects a compiled Keras model to be returned from the model function. "
   ]
  },
  {
   "cell_type": "code",
   "execution_count": null,
   "metadata": {},
   "outputs": [],
   "source": [
    "def keras_model_function(params):\n",
    "    import keras\n",
    "    from keras.models import Sequential\n",
    "    from keras.layers import Dense, Dropout, Activation, InputLayer, Input\n",
    "    from keras.optimizers import SGD\n",
    "    layers = []\n",
    "    layers.append(Dense(64, activation='relu', input_shape=[784], name=\"data\"))\n",
    "    layers.append(Dropout(0.5))\n",
    "    layers.append(Dense(64, activation='relu'))\n",
    "    layers.append(Dropout(0.5))\n",
    "    layers.append(Dense(10, activation='softmax'))\n",
    "\n",
    "    model = Sequential(layers=layers)\n",
    "\n",
    "    decay = params[\"decay\"]\n",
    "    momentum = params[\"momentum\"]\n",
    "    sgd = SGD(lr=0.01, decay=decay, momentum=momentum, nesterov=True)\n",
    "    model.compile(loss='categorical_crossentropy',\n",
    "                  optimizer=sgd,\n",
    "                  metrics=['accuracy'])\n",
    "    return model"
   ]
  },
  {
   "cell_type": "markdown",
   "metadata": {},
   "source": [
    "#### SBrain Keras Estimator\n",
    "\n",
    "SBrain provides the same estimator API to create an SBrain asset wrapped around the keras model function, as below. This can be saved against any name and can be reused across many runs of the same model with different hyperparameters."
   ]
  },
  {
   "cell_type": "code",
   "execution_count": null,
   "metadata": {},
   "outputs": [],
   "source": [
    "estimator = Estimator.NewClassificationEstimator(keras_model_fn=keras_model_function)\n",
    "name = uniquify(\"MyMnistKerasEstimator\")\n",
    "estimator = Estimator.create(name, \"KerasEstimator\", estimator)"
   ]
  },
  {
   "cell_type": "markdown",
   "metadata": {},
   "source": [
    "#### Hyperparameters and RunConfig\n",
    "\n",
    "Here we define the hyperparameters and run configuration. "
   ]
  },
  {
   "cell_type": "code",
   "execution_count": null,
   "metadata": {},
   "outputs": [],
   "source": [
    "hyper_parameters = HParams(iterations=5000, batch_size=128, decay=1e-6, momentum=0.9)\n",
    "rc = RunConfig(no_of_ps=1, no_of_workers=2, summary_save_frequency=30, run_eval=False, use_gpu=False)"
   ]
  },
  {
   "cell_type": "markdown",
   "metadata": {},
   "source": [
    "Now let us create an experiment as in other notebooks, and run it. "
   ]
  },
  {
   "cell_type": "code",
   "execution_count": null,
   "metadata": {},
   "outputs": [],
   "source": [
    "name = uniquify(\"MyMnistKerasExperiment\")\n",
    "experiment = Experiment.run(experiment_name=name,\n",
    "                     description=\"Mnist Keras Experiment\",\n",
    "                     estimator=estimator,\n",
    "                     hyper_parameters=hyper_parameters,\n",
    "                     run_config=rc,\n",
    "                     dataset_version_split=None,\n",
    "                     input_function=input_function)\n",
    "\n",
    "job = experiment.get_single_job()\n",
    "print(\"tensorboard url\")\n",
    "print(job.get_tensorboard_url())\n",
    "\n",
    "print(job.has_finished())\n",
    "\n",
    "job.wait_until_finish()"
   ]
  },
  {
   "cell_type": "markdown",
   "metadata": {},
   "source": [
    "Lets wait until it is done. "
   ]
  },
  {
   "cell_type": "code",
   "execution_count": null,
   "metadata": {},
   "outputs": [],
   "source": [
    "job.wait_until_finish()"
   ]
  },
  {
   "cell_type": "markdown",
   "metadata": {},
   "source": [
    "Finally print the metrics"
   ]
  },
  {
   "cell_type": "code",
   "execution_count": null,
   "metadata": {},
   "outputs": [],
   "source": [
    "print(\"Is the job success?? : {}\".format(job.is_success()))\n",
    "print(\"Model metrics..\")\n",
    "print(job.get_model().model_metrics)"
   ]
  },
  {
   "cell_type": "code",
   "execution_count": null,
   "metadata": {},
   "outputs": [],
   "source": [
    ""
   ]
  }
 ],
 "metadata": {
  "kernelspec": {
   "display_name": "Python 3",
   "language": "python",
   "name": "python3"
  },
  "language_info": {
   "codemirror_mode": {
    "name": "ipython",
    "version": 3.0
   },
   "file_extension": ".py",
   "mimetype": "text/x-python",
   "name": "python",
   "nbconvert_exporter": "python",
   "pygments_lexer": "ipython3",
   "version": "3.5.2"
  }
 },
 "nbformat": 4,
 "nbformat_minor": 0
}