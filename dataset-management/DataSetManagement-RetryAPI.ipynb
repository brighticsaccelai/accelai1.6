{
 "cells": [
  {
   "cell_type": "markdown",
   "metadata": {},
   "source": [
    "# <div class=\"alert alert-block alert-info\" style=\"border-width:4px\">SBrain DataSet Retry API </div>\n"
   ]
  },
  {
   "cell_type": "markdown",
   "metadata": {},
   "source": [
    "### NOTE : This is a sample notebook. Please make a copy of it for yourself and try it out.\n",
    "This notebook is a follow up tutorial. \n",
    "Please make sure to go through the [DataSetManagement-Basic](./DataSetManagement-Basic.ipynb) before trying out this notebook.\n",
    "<a id='top'></a>\n",
    "This notebook covers the following:\n",
    "- [Create DataSet With Faulty Image Iterator](#faulty_image_iterator)\n",
    "- [DataSetImageClassification Retry API](#retry_api)\n",
    "- [Using Retry() API To Fix Faulty Image Iterator](#fix_image_iterator)\n",
    "- [Create DataSet With Faulty Label Iterator](#faulty_label_iterator)\n",
    "- [Using Retry() API To Fix Faulty Label Iterator](#fix_label_iterator)"
   ]
  },
  {
   "cell_type": "markdown",
   "metadata": {},
   "source": [
    "This tutorial shows how to resume dataset creation, in case there is a failure due to \n",
    "image_iterator or label_iterator \n"
   ]
  },
  {
   "cell_type": "code",
   "execution_count": null,
   "metadata": {},
   "outputs": [],
   "source": [
    "from sbrain.dataset import DataSetImageClassification,DataSetVersion,DataSetSplit\n",
    "from sbrain.dataset import DataSetStatus,JobStatus,DataSetSplitStatus,DataSetVersionStatus\n",
    "from sbrain.dataset import Transformation\n",
    "import numpy as np\n",
    "import cv2\n",
    "import uuid\n",
    "import time\n",
    "from IPython.display import clear_output"
   ]
  },
  {
   "cell_type": "markdown",
   "metadata": {},
   "source": [
    "#### **_NOTE_**: Following values should be unique across the SBrain System.\n",
    "Please set it to some unique value before starting the tutorial, \n",
    "otherwise it will throw duplicate entry found error.\n"
   ]
  },
  {
   "cell_type": "code",
   "execution_count": null,
   "metadata": {},
   "outputs": [],
   "source": [
    "user_name = \"admin\""
   ]
  },
  {
   "cell_type": "code",
   "execution_count": null,
   "metadata": {},
   "outputs": [],
   "source": [
    "import time\n",
    "def unique_id():\n",
    "    return str(int(time.time()))"
   ]
  },
  {
   "cell_type": "markdown",
   "metadata": {},
   "source": [
    "<a id='faulty_image_iterator'></a>\n",
    "# _Create DataSet With Faulty Image Iterator_\n",
    "<div align=\"right\"><a href=\"#top\">BackToTheTop</a></div>"
   ]
  },
  {
   "cell_type": "markdown",
   "metadata": {},
   "source": [
    "**_sbrain.dataset.DataSetImageClassification_** is an abstraction which supports creating and handling of image dataset for classification model training. \n",
    "\n",
    "DataSetImageClassification construtor takes the **_name_** of the parameter as input.\n",
    "\n",
    "**_DataSetImageClassification.create()_** method takes following parameters:\n",
    "\n",
    "- **source_archive_path** : the path to the directory containing the images and labels. \n",
    "- **classes** :[optional] a dict with class names in the dataset as the keys and class ids as values\n",
    "- **collection_date** : date of collection of data in string format **_mm-dd-yyyy_**\n",
    "- **image_iterator** : function returning an iterator to the list of path of images in the archive\n",
    "- **label_iterator** : function returning an iterator. Each element returned by iterator is \n",
    "a tuple (image name, class id)\n"
   ]
  },
  {
   "cell_type": "code",
   "execution_count": null,
   "metadata": {},
   "outputs": [],
   "source": [
    "# defining classes\n",
    "\n",
    "classes = {\n",
    "                'airplane': 0,\n",
    "                'automobile':1,\n",
    "                'bird': 2,\n",
    "                'cat': 3,\n",
    "                'deer': 4,\n",
    "                'dog': 5,\n",
    "                'frog': 6,\n",
    "                'horse': 7,\n",
    "                'ship': 8,\n",
    "                'truck': 9\n",
    "            }"
   ]
  },
  {
   "cell_type": "markdown",
   "metadata": {},
   "source": [
    "#### NOTE : In the following example the image iterator, an exception has been artificially introduced to show dataset creation failing due to faulty image_iterator function"
   ]
  },
  {
   "cell_type": "code",
   "execution_count": null,
   "metadata": {},
   "outputs": [],
   "source": [
    "# defining iterator to get image file paths\n",
    "\n",
    "def faulty_iterator_images(data_root_path):\n",
    "    import glob\n",
    "    result = []\n",
    "    files = glob.glob(\"{}/*.*\".format(data_root_path))\n",
    "    cnt = 0\n",
    "    for f in files:\n",
    "        cnt = cnt+1\n",
    "        if cnt == 50:\n",
    "            raise Exception(\"Sample exception just for testing\")\n",
    "            \n",
    "        yield f\n",
    "    \n",
    "\n",
    "# defining iterator to get tuples (image_name, class_id) e.g. (xyz.jpeg,1)\n",
    "def iterator_labels(data_root_path):\n",
    "    import glob\n",
    "    files = glob.glob(\"{}/*.*\".format(data_root_path))\n",
    "    labels = []\n",
    "    classes = {\n",
    "                'airplane': 0,\n",
    "                'automobile':1,\n",
    "                'bird': 2,\n",
    "                'cat': 3,\n",
    "                'deer': 4,\n",
    "                'dog': 5,\n",
    "                'frog': 6,\n",
    "                'horse': 7,\n",
    "                'ship': 8,\n",
    "                'truck': 9\n",
    "            }\n",
    "    for f in files:\n",
    "        img_name =  f.split('/')[-1:][0]\n",
    "        lbl_str = img_name[img_name.index('_')+1:img_name.index('.')]\n",
    "        lbl_id = classes[lbl_str]\n",
    "        labels.append((img_name, lbl_id))    \n",
    "    return iter(labels)  \n",
    "    \n",
    "  "
   ]
  },
  {
   "cell_type": "markdown",
   "metadata": {},
   "source": [
    "### NOTE : After a few mins the job will fail and you should see a message saying \"Please fix your image iterator and use ImageClassification.retry() api"
   ]
  },
  {
   "cell_type": "code",
   "execution_count": null,
   "metadata": {},
   "outputs": [],
   "source": [
    "# creating dataset\n",
    "dataset_name = \"cifar10-small-{}\".format(unique_id())\n",
    "\n",
    "job = DataSetImageClassification(name=dataset_name).create(\n",
    "    description = \"Dataset with subset images from cifar 10 dataset\",\n",
    "    source_archive_path = \"shared-dir/sample-notebooks/demo-data/cifar10_small\",\n",
    "    classes=classes,\n",
    "    collection_date=\"07-25-2018\",\n",
    "    image_iterator=faulty_iterator_images,\n",
    "    label_iterator=iterator_labels\n",
    ")\n",
    "\n",
    "#Check Job Status\n",
    "\n",
    "while job.status != JobStatus.COMPLETE.value and job.status != JobStatus.FAILED.value:\n",
    "    clear_output(wait=True)\n",
    "    job = job.get_status()\n",
    "    time.sleep(2)"
   ]
  },
  {
   "cell_type": "markdown",
   "metadata": {},
   "source": [
    "#### DataSet.create() will return a DataSetExtractionJob object\n",
    "The job object can be used to track the progress of DataSet creation.\n",
    "\n",
    "job.getdataset() will return a DataSet object that's a handle to the new dataset created"
   ]
  },
  {
   "cell_type": "markdown",
   "metadata": {},
   "source": [
    "#### Search results will show the dataset  and the version \"v1\" (default version of any dataset) with status \"CreationFailed\""
   ]
  },
  {
   "cell_type": "code",
   "execution_count": null,
   "metadata": {},
   "outputs": [],
   "source": [
    "DataSetImageClassification.search(name=dataset_name)\n",
    "ds = DataSetImageClassification.lookup(dataset_name)\n",
    "ds.search_versions(version_name=\"v1\")"
   ]
  },
  {
   "cell_type": "markdown",
   "metadata": {},
   "source": [
    "<a id='retry_api'></a>\n",
    "# DataSetImageClassification Retry API\n",
    "<div align=\"right\"><a href=\"#top\">BackToTheTop</a></div>"
   ]
  },
  {
   "cell_type": "markdown",
   "metadata": {},
   "source": [
    "**_DataSetImageClassification.retry_create()_** api can be used with the following parameters:\n",
    "\n",
    "- **source_archive_path** :[optional] the path to the directory containing the images and labels.\n",
    "- **image_iterator** : [optional] function returning an iterator to the list of path of images in the archive\n",
    "- **label_iterator** : [optional] function returning an iterator. Each element returned by iterator is a tuple (image name, class id)\n",
    "- **classes** :[optional] a dict with class names in the dataset as the keys and class ids as values\n",
    "- **collection_date** : [optional] date of collection of data in string format **_mm-dd-yyyy_**\n",
    "\n",
    "NOTE : \n",
    "1. if \"source_archive_path\" parameter is not provided while retry_create(), the original path provided while dataset.create() api will be used\n",
    "\n",
    "2. if the dataset.create() failed because of faulty image iterator, you can call the retry_create() with only the \"image_iterator\" parameter. Other parameters are optional and the original values provided in create() will be used\n",
    "\n",
    "3. if the dataset.create() failed because of faulty label iterator, you can call the retry_create() with only the \"label_iterator\" parameter. Other parameters are optional and the original values provided in create() will be used\n",
    "\n",
    "4. \"collection_date\" parameter can be used to override the date given in original create() api, only if this parameter is passed to retry_create() along with \"source_archive_path\" and/or \"image_iterator\" parameters\n"
   ]
  },
  {
   "cell_type": "markdown",
   "metadata": {},
   "source": [
    "<a id='fix_image_iterator'></a>\n",
    "## Using Retry() API To Fix Faulty Image Iterator\n",
    "\n",
    "Lets retry creation using an image_iterator that is fixed now.\n",
    "<div align=\"right\"><a href=\"#top\">BackToTheTop</a></div>"
   ]
  },
  {
   "cell_type": "code",
   "execution_count": null,
   "metadata": {},
   "outputs": [],
   "source": [
    "def good_iterator_images(data_root_path):\n",
    "    import glob\n",
    "    result = []\n",
    "    files = glob.glob(\"{}/*.*\".format(data_root_path))\n",
    "    for f in files:\n",
    "        yield f\n",
    "    "
   ]
  },
  {
   "cell_type": "code",
   "execution_count": null,
   "metadata": {},
   "outputs": [],
   "source": [
    "job = ds.retry_create(image_iterator=good_iterator_images)\n",
    "\n",
    "#Check job status\n",
    "while job.status != JobStatus.COMPLETE.value and job.status != JobStatus.FAILED.value:\n",
    "    clear_output(wait=True)\n",
    "    job = job.get_status()\n",
    "    time.sleep(2)"
   ]
  },
  {
   "cell_type": "markdown",
   "metadata": {},
   "source": [
    "<a id='faulty_label_iterator'></a>\n",
    "# Create DataSet With Faulty Label Iterator\n",
    "<div align=\"right\"><a href=\"#top\">BackToTheTop</a></div>"
   ]
  },
  {
   "cell_type": "code",
   "execution_count": null,
   "metadata": {},
   "outputs": [],
   "source": [
    "# defining iterator to get tuples (image_name, class_id) e.g. (xyz.jpeg,1)\n",
    "def faulty_iterator_labels(data_root_path):\n",
    "    import glob\n",
    "    files = glob.glob(\"{}/*.*\".format(data_root_path))\n",
    "    labels = []\n",
    "    classes = {\n",
    "                'airplane': 0,\n",
    "                'automobile':1,\n",
    "                'bird': 2,\n",
    "                'cat': 3,\n",
    "                'deer': 4,\n",
    "                'dog': 5,\n",
    "                'frog': 6,\n",
    "                'horse': 7,\n",
    "                'ship': 8,\n",
    "                'truck': 9\n",
    "            }\n",
    "    cnt = 0\n",
    "    for f in files:\n",
    "        cnt = cnt+1\n",
    "        if cnt == 50:\n",
    "            raise Exception(\"Sample exception just for testing\")\n",
    "        img_name =  f.split('/')[-1:][0]\n",
    "        lbl_str = img_name[img_name.index('_')+1:img_name.index('.')]\n",
    "        lbl_id = classes[lbl_str]\n",
    "        yield(img_name, lbl_id)\n",
    "   "
   ]
  },
  {
   "cell_type": "code",
   "execution_count": null,
   "metadata": {},
   "outputs": [],
   "source": [
    "dataset_name = \"cifar10-small-{}\".format(unique_id())\n",
    "\n",
    "job = DataSetImageClassification(name=dataset_name).create(\n",
    "    description = \"Dataset with subset of cifar 10 images\",\n",
    "    source_archive_path = \"shared-dir/sample-notebooks/demo-data/cifar10_small\",\n",
    "    classes=classes,\n",
    "    collection_date=\"07-25-2018\",\n",
    "    image_iterator=good_iterator_images,\n",
    "    label_iterator=faulty_iterator_labels\n",
    ")\n",
    "\n",
    "#check job status\n",
    "while job.status != JobStatus.COMPLETE.value and job.status != JobStatus.FAILED.value:\n",
    "    clear_output(wait=True)\n",
    "    job = job.get_status()\n",
    "    time.sleep(2)"
   ]
  },
  {
   "cell_type": "markdown",
   "metadata": {},
   "source": [
    "<a id='fix_label_iterator'></a>\n",
    "## Using Retry() API To Fix Faulty Label Iterator\n",
    "\n",
    "Lets retry creation using an label_iterator that is fixed now.\n",
    "<div align=\"right\"><a href=\"#top\">BackToTheTop</a></div>"
   ]
  },
  {
   "cell_type": "code",
   "execution_count": null,
   "metadata": {},
   "outputs": [],
   "source": [
    "DataSetImageClassification.search(name=dataset_name)\n",
    "ds = DataSetImageClassification.lookup(dataset_name)\n",
    "ds.search_versions(version_name=\"v1\")"
   ]
  },
  {
   "cell_type": "code",
   "execution_count": null,
   "metadata": {},
   "outputs": [],
   "source": [
    "def good_iterator_labels(data_root_path):\n",
    "    import glob\n",
    "    files = glob.glob(\"{}/*.*\".format(data_root_path))\n",
    "    labels = []\n",
    "    classes = {\n",
    "                'airplane': 0,\n",
    "                'automobile':1,\n",
    "                'bird': 2,\n",
    "                'cat': 3,\n",
    "                'deer': 4,\n",
    "                'dog': 5,\n",
    "                'frog': 6,\n",
    "                'horse': 7,\n",
    "                'ship': 8,\n",
    "                'truck': 9\n",
    "            }\n",
    "    for f in files:\n",
    "        img_name =  f.split('/')[-1:][0]\n",
    "        lbl_str = img_name[img_name.index('_')+1:img_name.index('.')]\n",
    "        lbl_id = classes[lbl_str]\n",
    "        yield(img_name, lbl_id)"
   ]
  },
  {
   "cell_type": "code",
   "execution_count": null,
   "metadata": {},
   "outputs": [],
   "source": [
    "job = ds.retry_create(label_iterator=good_iterator_labels)\n",
    "\n",
    "# check job status\n",
    "while job.status != JobStatus.COMPLETE.value and job.status != JobStatus.FAILED.value:\n",
    "    clear_output(wait=True)\n",
    "    job = job.get_status()\n",
    "    time.sleep(2)"
   ]
  },
  {
   "cell_type": "code",
   "execution_count": null,
   "metadata": {},
   "outputs": [],
   "source": [
    "DataSetImageClassification.search(name=dataset_name)"
   ]
  },
  {
   "cell_type": "markdown",
   "metadata": {},
   "source": [
    "## **_<font color=\"green\">Congratulations !!! You completed the tutorial successfully.</font>_**"
   ]
  }
 ],
 "metadata": {
  "kernelspec": {
   "display_name": "Python 3",
   "language": "python",
   "name": "python3"
  },
  "language_info": {
   "codemirror_mode": {
    "name": "ipython",
    "version": 3
   },
   "file_extension": ".py",
   "mimetype": "text/x-python",
   "name": "python",
   "nbconvert_exporter": "python",
   "pygments_lexer": "ipython3",
   "version": "3.5.2"
  }
 },
 "nbformat": 4,
 "nbformat_minor": 2
}
